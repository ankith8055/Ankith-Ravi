{
 "cells": [
  {
   "cell_type": "code",
   "execution_count": 1,
   "id": "31878bd2",
   "metadata": {},
   "outputs": [],
   "source": [
    "import numpy as np\n",
    "import tensorflow as tf\n",
    "from tensorflow import keras\n",
    "from keras.models import Sequential\n",
    "import pandas as pd\n",
    "from matplotlib import pyplot as plt\n",
    "%matplotlib inline\n",
    "import os\n",
    "import cv2\n",
    "from keras.layers import Dense, Conv2D, MaxPooling2D, Flatten,GlobalAveragePooling2D\n",
    "from PIL import Image\n",
    "from sklearn.preprocessing import LabelEncoder\n",
    "from sklearn.metrics import confusion_matrix, classification_report"
   ]
  },
  {
   "cell_type": "code",
   "execution_count": 2,
   "id": "5e75d787",
   "metadata": {},
   "outputs": [],
   "source": [
    "train_val_folder = \"C:/Users/91944/Desktop/charts/train_val\"\n",
    "test_folder = \"C:/Users/91944/Desktop/charts/test\"\n",
    "train_path_labels = \"C:/Users/91944/Desktop/charts/train_val.csv\"\n",
    "train_val_labels = pd.read_csv(train_path_labels)"
   ]
  },
  {
   "cell_type": "code",
   "execution_count": 5,
   "id": "662e7219",
   "metadata": {},
   "outputs": [],
   "source": [
    "train_images = []\n",
    "train_labels = []\n",
    "for filename in os.listdir(train_val_folder):\n",
    "    if filename.endswith('.png'):\n",
    "# Load the images and resize them to (128, 128) with 3 color channels\n",
    "        img = cv2.imread(os.path.join(train_val_folder, filename))\n",
    "        img = cv2.resize(img, (128, 128))\n",
    "        img = cv2.cvtColor(img, cv2.COLOR_BGR2RGB)\n",
    "            # img = Image.open(os.path.join(train_val_folder, filename))\n",
    "        img_array = np.array(img)\n",
    "    # Append the array to the list of images\n",
    "        train_images.append(img_array)\n",
    "        train_labels.append(filename)\n"
   ]
  },
  {
   "cell_type": "code",
   "execution_count": 6,
   "id": "8baaa25e",
   "metadata": {},
   "outputs": [],
   "source": [
    "le = LabelEncoder()\n",
    "train_labels = le.fit_transform(train_labels)"
   ]
  },
  {
   "cell_type": "code",
   "execution_count": 7,
   "id": "529dffb2",
   "metadata": {},
   "outputs": [],
   "source": [
    "train_images = np.array(train_images)\n",
    "train_labels = np.array(train_labels)"
   ]
  },
  {
   "cell_type": "code",
   "execution_count": 8,
   "id": "a85baca0",
   "metadata": {},
   "outputs": [
    {
     "data": {
      "text/plain": [
       "array([[[[255, 255, 255],\n",
       "         [255, 255, 255],\n",
       "         [255, 255, 255],\n",
       "         ...,\n",
       "         [255, 255, 255],\n",
       "         [255, 255, 255],\n",
       "         [255, 255, 255]],\n",
       "\n",
       "        [[255, 255, 255],\n",
       "         [255, 255, 255],\n",
       "         [255, 255, 255],\n",
       "         ...,\n",
       "         [255, 255, 255],\n",
       "         [255, 255, 255],\n",
       "         [255, 255, 255]],\n",
       "\n",
       "        [[255, 255, 255],\n",
       "         [255, 255, 255],\n",
       "         [255, 255, 255],\n",
       "         ...,\n",
       "         [255, 255, 255],\n",
       "         [255, 255, 255],\n",
       "         [255, 255, 255]],\n",
       "\n",
       "        ...,\n",
       "\n",
       "        [[255, 255, 255],\n",
       "         [255, 255, 255],\n",
       "         [255, 255, 255],\n",
       "         ...,\n",
       "         [255, 255, 255],\n",
       "         [255, 255, 255],\n",
       "         [255, 255, 255]],\n",
       "\n",
       "        [[255, 255, 255],\n",
       "         [255, 255, 255],\n",
       "         [255, 255, 255],\n",
       "         ...,\n",
       "         [255, 255, 255],\n",
       "         [255, 255, 255],\n",
       "         [255, 255, 255]],\n",
       "\n",
       "        [[255, 255, 255],\n",
       "         [255, 255, 255],\n",
       "         [255, 255, 255],\n",
       "         ...,\n",
       "         [255, 255, 255],\n",
       "         [255, 255, 255],\n",
       "         [255, 255, 255]]],\n",
       "\n",
       "\n",
       "       [[[255, 255, 255],\n",
       "         [255, 255, 255],\n",
       "         [255, 255, 255],\n",
       "         ...,\n",
       "         [255, 255, 255],\n",
       "         [255, 255, 255],\n",
       "         [255, 255, 255]],\n",
       "\n",
       "        [[255, 255, 255],\n",
       "         [255, 255, 255],\n",
       "         [255, 255, 255],\n",
       "         ...,\n",
       "         [255, 255, 255],\n",
       "         [255, 255, 255],\n",
       "         [255, 255, 255]],\n",
       "\n",
       "        [[255, 255, 255],\n",
       "         [255, 255, 255],\n",
       "         [255, 255, 255],\n",
       "         ...,\n",
       "         [255, 255, 255],\n",
       "         [255, 255, 255],\n",
       "         [255, 255, 255]],\n",
       "\n",
       "        ...,\n",
       "\n",
       "        [[255, 255, 255],\n",
       "         [255, 255, 255],\n",
       "         [255, 255, 255],\n",
       "         ...,\n",
       "         [255, 255, 255],\n",
       "         [255, 255, 255],\n",
       "         [255, 255, 255]],\n",
       "\n",
       "        [[255, 255, 255],\n",
       "         [255, 255, 255],\n",
       "         [255, 255, 255],\n",
       "         ...,\n",
       "         [255, 255, 255],\n",
       "         [255, 255, 255],\n",
       "         [255, 255, 255]],\n",
       "\n",
       "        [[255, 255, 255],\n",
       "         [255, 255, 255],\n",
       "         [255, 255, 255],\n",
       "         ...,\n",
       "         [255, 255, 255],\n",
       "         [255, 255, 255],\n",
       "         [255, 255, 255]]],\n",
       "\n",
       "\n",
       "       [[[255, 255, 255],\n",
       "         [255, 255, 255],\n",
       "         [255, 255, 255],\n",
       "         ...,\n",
       "         [255, 255, 255],\n",
       "         [255, 255, 255],\n",
       "         [255, 255, 255]],\n",
       "\n",
       "        [[255, 255, 255],\n",
       "         [255, 255, 255],\n",
       "         [255, 255, 255],\n",
       "         ...,\n",
       "         [255, 255, 255],\n",
       "         [255, 255, 255],\n",
       "         [255, 255, 255]],\n",
       "\n",
       "        [[255, 255, 255],\n",
       "         [255, 255, 255],\n",
       "         [255, 255, 255],\n",
       "         ...,\n",
       "         [255, 255, 255],\n",
       "         [255, 255, 255],\n",
       "         [255, 255, 255]],\n",
       "\n",
       "        ...,\n",
       "\n",
       "        [[255, 255, 255],\n",
       "         [255, 255, 255],\n",
       "         [255, 255, 255],\n",
       "         ...,\n",
       "         [255, 255, 255],\n",
       "         [255, 255, 255],\n",
       "         [255, 255, 255]],\n",
       "\n",
       "        [[255, 255, 255],\n",
       "         [255, 255, 255],\n",
       "         [255, 255, 255],\n",
       "         ...,\n",
       "         [255, 255, 255],\n",
       "         [255, 255, 255],\n",
       "         [255, 255, 255]],\n",
       "\n",
       "        [[255, 255, 255],\n",
       "         [255, 255, 255],\n",
       "         [255, 255, 255],\n",
       "         ...,\n",
       "         [255, 255, 255],\n",
       "         [255, 255, 255],\n",
       "         [255, 255, 255]]],\n",
       "\n",
       "\n",
       "       [[[255, 255, 255],\n",
       "         [255, 255, 255],\n",
       "         [255, 255, 255],\n",
       "         ...,\n",
       "         [255, 255, 255],\n",
       "         [255, 255, 255],\n",
       "         [255, 255, 255]],\n",
       "\n",
       "        [[255, 255, 255],\n",
       "         [255, 255, 255],\n",
       "         [255, 255, 255],\n",
       "         ...,\n",
       "         [255, 255, 255],\n",
       "         [255, 255, 255],\n",
       "         [255, 255, 255]],\n",
       "\n",
       "        [[255, 255, 255],\n",
       "         [255, 255, 255],\n",
       "         [255, 255, 255],\n",
       "         ...,\n",
       "         [255, 255, 255],\n",
       "         [255, 255, 255],\n",
       "         [255, 255, 255]],\n",
       "\n",
       "        ...,\n",
       "\n",
       "        [[255, 255, 255],\n",
       "         [255, 255, 255],\n",
       "         [255, 255, 255],\n",
       "         ...,\n",
       "         [255, 255, 255],\n",
       "         [255, 255, 255],\n",
       "         [255, 255, 255]],\n",
       "\n",
       "        [[255, 255, 255],\n",
       "         [255, 255, 255],\n",
       "         [255, 255, 255],\n",
       "         ...,\n",
       "         [255, 255, 255],\n",
       "         [255, 255, 255],\n",
       "         [255, 255, 255]],\n",
       "\n",
       "        [[255, 255, 255],\n",
       "         [255, 255, 255],\n",
       "         [255, 255, 255],\n",
       "         ...,\n",
       "         [255, 255, 255],\n",
       "         [255, 255, 255],\n",
       "         [255, 255, 255]]],\n",
       "\n",
       "\n",
       "       [[[255, 255, 255],\n",
       "         [255, 255, 255],\n",
       "         [255, 255, 255],\n",
       "         ...,\n",
       "         [255, 255, 255],\n",
       "         [255, 255, 255],\n",
       "         [255, 255, 255]],\n",
       "\n",
       "        [[255, 255, 255],\n",
       "         [255, 255, 255],\n",
       "         [255, 255, 255],\n",
       "         ...,\n",
       "         [255, 255, 255],\n",
       "         [255, 255, 255],\n",
       "         [255, 255, 255]],\n",
       "\n",
       "        [[255, 255, 255],\n",
       "         [255, 255, 255],\n",
       "         [255, 255, 255],\n",
       "         ...,\n",
       "         [255, 255, 255],\n",
       "         [255, 255, 255],\n",
       "         [255, 255, 255]],\n",
       "\n",
       "        ...,\n",
       "\n",
       "        [[255, 255, 255],\n",
       "         [255, 255, 255],\n",
       "         [255, 255, 255],\n",
       "         ...,\n",
       "         [255, 255, 255],\n",
       "         [255, 255, 255],\n",
       "         [255, 255, 255]],\n",
       "\n",
       "        [[255, 255, 255],\n",
       "         [255, 255, 255],\n",
       "         [255, 255, 255],\n",
       "         ...,\n",
       "         [255, 255, 255],\n",
       "         [255, 255, 255],\n",
       "         [255, 255, 255]],\n",
       "\n",
       "        [[255, 255, 255],\n",
       "         [255, 255, 255],\n",
       "         [255, 255, 255],\n",
       "         ...,\n",
       "         [255, 255, 255],\n",
       "         [255, 255, 255],\n",
       "         [255, 255, 255]]]], dtype=uint8)"
      ]
     },
     "execution_count": 8,
     "metadata": {},
     "output_type": "execute_result"
    }
   ],
   "source": [
    "np.save('x_train.npy', train_images)\n",
    "np.save('y_train.npy', train_labels)\n",
    "x_train = np.load('x_train.npy')\n",
    "y_train = np.load('y_train.npy')\n",
    "\n",
    "x_train.shape\n",
    "x_train[:5]"
   ]
  },
  {
   "cell_type": "code",
   "execution_count": 11,
   "id": "7f860601",
   "metadata": {},
   "outputs": [],
   "source": [
    "test_images = []\n",
    "test_labels = []\n",
    "for filename in os.listdir(test_folder):\n",
    "    if filename.endswith('.png'):\n",
    "        img = cv2.imread(os.path.join(test_folder, filename))\n",
    "        img = cv2.resize(img, (128, 128))\n",
    "        img = cv2.cvtColor(img, cv2.COLOR_BGR2RGB)\n",
    "        img_array = np.array(img)\n",
    "        test_images.append(img_array)\n",
    "        test_labels.append(filename)"
   ]
  },
  {
   "cell_type": "code",
   "execution_count": 12,
   "id": "5d3ca034",
   "metadata": {},
   "outputs": [],
   "source": [
    "le = LabelEncoder()\n",
    "test_labels = le.fit_transform(test_labels)\n",
    "test_images = np.array(test_images)\n",
    "test_labels = np.array(test_labels)"
   ]
  },
  {
   "cell_type": "code",
   "execution_count": 13,
   "id": "4f85d5ca",
   "metadata": {},
   "outputs": [],
   "source": [
    "np.save('x_test.npy', test_images)\n",
    "np.save('y_test.npy', test_labels)\n",
    "x_test = np.load('x_test.npy')\n",
    "y_test = np.load('y_test.npy')"
   ]
  },
  {
   "cell_type": "code",
   "execution_count": 14,
   "id": "abfa7f3d",
   "metadata": {},
   "outputs": [
    {
     "data": {
      "text/plain": [
       "'line'"
      ]
     },
     "execution_count": 14,
     "metadata": {},
     "output_type": "execute_result"
    }
   ],
   "source": [
    "image_classes = ['line', 'dot_line', 'hbar_categorical', 'vbar_categorical', 'pie']\n",
    "image_classes[0]"
   ]
  },
  {
   "cell_type": "code",
   "execution_count": 15,
   "id": "7148d1fc",
   "metadata": {},
   "outputs": [
    {
     "data": {
      "text/plain": [
       "0    vbar_categorical\n",
       "1    vbar_categorical\n",
       "2    vbar_categorical\n",
       "3    vbar_categorical\n",
       "4    vbar_categorical\n",
       "Name: type, dtype: object"
      ]
     },
     "execution_count": 15,
     "metadata": {},
     "output_type": "execute_result"
    }
   ],
   "source": [
    "label_map = {'line': 0, 'dot_line': 1, 'hbar_categorical': 2, 'vbar_categorical': 3, 'pie': 4}\n",
    "y_train = np.array([label_map[label] for label in train_val_labels['type']])\n",
    "\n",
    "y_train\n",
    "x_train=x_train /255\n",
    "x_test=x_train /255\n",
    "y_train_index = train_val_labels['image_index']\n",
    "y_train_type = train_val_labels['type']\n",
    "y_train_type[:5]"
   ]
  },
  {
   "cell_type": "code",
   "execution_count": 19,
   "id": "58b34926",
   "metadata": {},
   "outputs": [],
   "source": [
    "from sklearn.model_selection import train_test_split\n",
    "x_train, x_test, y_train, y_test = train_test_split(x_train, y_train, test_size=0.2, random_state=42)\n",
    "cnn_mod = Sequential([\n",
    " Conv2D(filters=16 ,kernel_size=(3,3), activation='relu', input_shape=(128,128,3)),\n",
    " MaxPooling2D(pool_size=(2,2)),\n",
    " Conv2D(32, (3,3), activation='relu'),\n",
    " MaxPooling2D(pool_size=(2,2)),\n",
    " Conv2D(64, (3,3), activation='relu'),\n",
    " MaxPooling2D(pool_size=(2,2)), \n",
    " Flatten(),\n",
    " Dense(128, activation='relu'),\n",
    " Dense(5, activation='softmax')\n",
    "])"
   ]
  },
  {
   "cell_type": "code",
   "execution_count": 20,
   "id": "dc81efb4",
   "metadata": {},
   "outputs": [],
   "source": []
  },
  {
   "cell_type": "code",
   "execution_count": 25,
   "id": "625d88fe",
   "metadata": {},
   "outputs": [],
   "source": [
    "cnn_model.compile(optimizer='adam', loss='sparse_categorical_crossentropy', metrics=['accuracy'])"
   ]
  },
  {
   "cell_type": "code",
   "execution_count": 26,
   "id": "ce79ee24",
   "metadata": {},
   "outputs": [
    {
     "name": "stdout",
     "output_type": "stream",
     "text": [
      "Epoch 1/50\n",
      "1/1 [==============================] - 9s 9s/step - loss: 0.5717 - accuracy: 0.7828 - val_loss: 2.5387 - val_accuracy: 0.3625\n",
      "Epoch 2/50\n",
      "1/1 [==============================] - 5s 5s/step - loss: 2.1167 - accuracy: 0.3375 - val_loss: 1.3084 - val_accuracy: 0.4313\n",
      "Epoch 3/50\n",
      "1/1 [==============================] - 6s 6s/step - loss: 0.8839 - accuracy: 0.6031 - val_loss: 1.2653 - val_accuracy: 0.5688\n",
      "Epoch 4/50\n",
      "1/1 [==============================] - 5s 5s/step - loss: 0.7904 - accuracy: 0.6766 - val_loss: 1.5073 - val_accuracy: 0.4938\n",
      "Epoch 5/50\n",
      "1/1 [==============================] - 5s 5s/step - loss: 1.0045 - accuracy: 0.5938 - val_loss: 1.4368 - val_accuracy: 0.5437\n",
      "Epoch 6/50\n",
      "1/1 [==============================] - 6s 6s/step - loss: 0.9550 - accuracy: 0.6500 - val_loss: 1.3798 - val_accuracy: 0.5063\n",
      "Epoch 7/50\n",
      "1/1 [==============================] - 5s 5s/step - loss: 0.8934 - accuracy: 0.6906 - val_loss: 1.3159 - val_accuracy: 0.4938\n",
      "Epoch 8/50\n",
      "1/1 [==============================] - 5s 5s/step - loss: 0.8223 - accuracy: 0.6625 - val_loss: 1.2603 - val_accuracy: 0.4938\n",
      "Epoch 9/50\n",
      "1/1 [==============================] - 7s 7s/step - loss: 0.7699 - accuracy: 0.6547 - val_loss: 1.2197 - val_accuracy: 0.4750\n",
      "Epoch 10/50\n",
      "1/1 [==============================] - 7s 7s/step - loss: 0.7472 - accuracy: 0.6656 - val_loss: 1.1991 - val_accuracy: 0.4625\n",
      "Epoch 11/50\n",
      "1/1 [==============================] - 7s 7s/step - loss: 0.7504 - accuracy: 0.6797 - val_loss: 1.1947 - val_accuracy: 0.4313\n",
      "Epoch 12/50\n",
      "1/1 [==============================] - 6s 6s/step - loss: 0.7473 - accuracy: 0.6797 - val_loss: 1.1860 - val_accuracy: 0.4313\n",
      "Epoch 13/50\n",
      "1/1 [==============================] - 6s 6s/step - loss: 0.7166 - accuracy: 0.6953 - val_loss: 1.1961 - val_accuracy: 0.4688\n",
      "Epoch 14/50\n",
      "1/1 [==============================] - 6s 6s/step - loss: 0.6723 - accuracy: 0.7312 - val_loss: 1.2588 - val_accuracy: 0.4688\n",
      "Epoch 15/50\n",
      "1/1 [==============================] - 6s 6s/step - loss: 0.6675 - accuracy: 0.7312 - val_loss: 1.2714 - val_accuracy: 0.5437\n",
      "Epoch 16/50\n",
      "1/1 [==============================] - 5s 5s/step - loss: 0.6775 - accuracy: 0.7516 - val_loss: 1.2085 - val_accuracy: 0.5875\n",
      "Epoch 17/50\n",
      "1/1 [==============================] - 6s 6s/step - loss: 0.6378 - accuracy: 0.7844 - val_loss: 1.1729 - val_accuracy: 0.6000\n",
      "Epoch 18/50\n",
      "1/1 [==============================] - 5s 5s/step - loss: 0.6163 - accuracy: 0.8062 - val_loss: 1.1622 - val_accuracy: 0.6000\n",
      "Epoch 19/50\n",
      "1/1 [==============================] - 5s 5s/step - loss: 0.6039 - accuracy: 0.8031 - val_loss: 1.1656 - val_accuracy: 0.5938\n",
      "Epoch 20/50\n",
      "1/1 [==============================] - 5s 5s/step - loss: 0.5926 - accuracy: 0.8031 - val_loss: 1.1680 - val_accuracy: 0.5875\n",
      "Epoch 21/50\n",
      "1/1 [==============================] - 5s 5s/step - loss: 0.5799 - accuracy: 0.8094 - val_loss: 1.1591 - val_accuracy: 0.5938\n",
      "Epoch 22/50\n",
      "1/1 [==============================] - 5s 5s/step - loss: 0.5638 - accuracy: 0.8156 - val_loss: 1.1522 - val_accuracy: 0.6125\n",
      "Epoch 23/50\n",
      "1/1 [==============================] - 5s 5s/step - loss: 0.5531 - accuracy: 0.8109 - val_loss: 1.1497 - val_accuracy: 0.6375\n",
      "Epoch 24/50\n",
      "1/1 [==============================] - 5s 5s/step - loss: 0.5453 - accuracy: 0.8062 - val_loss: 1.1523 - val_accuracy: 0.5938\n",
      "Epoch 25/50\n",
      "1/1 [==============================] - 5s 5s/step - loss: 0.5328 - accuracy: 0.8156 - val_loss: 1.1613 - val_accuracy: 0.5813\n",
      "Epoch 26/50\n",
      "1/1 [==============================] - 5s 5s/step - loss: 0.5162 - accuracy: 0.8344 - val_loss: 1.1762 - val_accuracy: 0.5875\n",
      "Epoch 27/50\n",
      "1/1 [==============================] - 5s 5s/step - loss: 0.5020 - accuracy: 0.8266 - val_loss: 1.1746 - val_accuracy: 0.5813\n",
      "Epoch 28/50\n",
      "1/1 [==============================] - 5s 5s/step - loss: 0.4931 - accuracy: 0.8266 - val_loss: 1.1677 - val_accuracy: 0.5875\n",
      "Epoch 29/50\n",
      "1/1 [==============================] - 5s 5s/step - loss: 0.4855 - accuracy: 0.8219 - val_loss: 1.1862 - val_accuracy: 0.5938\n",
      "Epoch 30/50\n",
      "1/1 [==============================] - 5s 5s/step - loss: 0.4740 - accuracy: 0.8328 - val_loss: 1.2188 - val_accuracy: 0.5875\n",
      "Epoch 31/50\n",
      "1/1 [==============================] - 5s 5s/step - loss: 0.4668 - accuracy: 0.8297 - val_loss: 1.2070 - val_accuracy: 0.5625\n",
      "Epoch 32/50\n",
      "1/1 [==============================] - 5s 5s/step - loss: 0.4508 - accuracy: 0.8547 - val_loss: 1.2039 - val_accuracy: 0.5875\n",
      "Epoch 33/50\n",
      "1/1 [==============================] - 5s 5s/step - loss: 0.4362 - accuracy: 0.8547 - val_loss: 1.2029 - val_accuracy: 0.5875\n",
      "Epoch 34/50\n",
      "1/1 [==============================] - 5s 5s/step - loss: 0.4231 - accuracy: 0.8625 - val_loss: 1.2006 - val_accuracy: 0.5813\n",
      "Epoch 35/50\n",
      "1/1 [==============================] - 5s 5s/step - loss: 0.4107 - accuracy: 0.8750 - val_loss: 1.2209 - val_accuracy: 0.5875\n",
      "Epoch 36/50\n",
      "1/1 [==============================] - 5s 5s/step - loss: 0.4024 - accuracy: 0.8672 - val_loss: 1.2094 - val_accuracy: 0.5813\n",
      "Epoch 37/50\n",
      "1/1 [==============================] - 5s 5s/step - loss: 0.3908 - accuracy: 0.8734 - val_loss: 1.2107 - val_accuracy: 0.6062\n",
      "Epoch 38/50\n",
      "1/1 [==============================] - 5s 5s/step - loss: 0.3799 - accuracy: 0.8750 - val_loss: 1.2196 - val_accuracy: 0.6187\n",
      "Epoch 39/50\n",
      "1/1 [==============================] - 5s 5s/step - loss: 0.3678 - accuracy: 0.8750 - val_loss: 1.2178 - val_accuracy: 0.5875\n",
      "Epoch 40/50\n",
      "1/1 [==============================] - 5s 5s/step - loss: 0.3556 - accuracy: 0.8797 - val_loss: 1.2260 - val_accuracy: 0.6000\n",
      "Epoch 41/50\n",
      "1/1 [==============================] - 5s 5s/step - loss: 0.3450 - accuracy: 0.8859 - val_loss: 1.2064 - val_accuracy: 0.6062\n",
      "Epoch 42/50\n",
      "1/1 [==============================] - 5s 5s/step - loss: 0.3362 - accuracy: 0.8844 - val_loss: 1.2489 - val_accuracy: 0.6062\n",
      "Epoch 43/50\n",
      "1/1 [==============================] - 5s 5s/step - loss: 0.3289 - accuracy: 0.8875 - val_loss: 1.2316 - val_accuracy: 0.5875\n",
      "Epoch 44/50\n",
      "1/1 [==============================] - 5s 5s/step - loss: 0.3196 - accuracy: 0.8969 - val_loss: 1.2471 - val_accuracy: 0.5813\n",
      "Epoch 45/50\n",
      "1/1 [==============================] - 5s 5s/step - loss: 0.3031 - accuracy: 0.9016 - val_loss: 1.2408 - val_accuracy: 0.6125\n",
      "Epoch 46/50\n",
      "1/1 [==============================] - 5s 5s/step - loss: 0.2929 - accuracy: 0.9094 - val_loss: 1.2382 - val_accuracy: 0.5938\n",
      "Epoch 47/50\n",
      "1/1 [==============================] - 5s 5s/step - loss: 0.2869 - accuracy: 0.9141 - val_loss: 1.2698 - val_accuracy: 0.6125\n",
      "Epoch 48/50\n",
      "1/1 [==============================] - 5s 5s/step - loss: 0.2735 - accuracy: 0.9094 - val_loss: 1.2906 - val_accuracy: 0.6125\n",
      "Epoch 49/50\n",
      "1/1 [==============================] - 5s 5s/step - loss: 0.2633 - accuracy: 0.9141 - val_loss: 1.2961 - val_accuracy: 0.5938\n",
      "Epoch 50/50\n",
      "1/1 [==============================] - 5s 5s/step - loss: 0.2579 - accuracy: 0.9125 - val_loss: 1.3184 - val_accuracy: 0.6125\n"
     ]
    }
   ],
   "source": [
    "history = cnn_model.fit(x_train, y_train, batch_size=1000, epochs=50,validation_data=(x_test, y_test))"
   ]
  },
  {
   "cell_type": "code",
   "execution_count": 27,
   "id": "15c1e1b0",
   "metadata": {},
   "outputs": [
    {
     "data": {
      "image/png": "[encoded data removed]",
      "text/plain": [
       "<Figure size 640x480 with 1 Axes>"
      ]
     },
     "metadata": {},
     "output_type": "display_data"
    },
    {
     "name": "stdout",
     "output_type": "stream",
     "text": [
      "5/5 [==============================] - 0s 43ms/step - loss: 1.3184 - accuracy: 0.6125\n"
     ]
    }
   ],
   "source": [
    "plt.plot(history.history['loss'])\n",
    "plt.plot(history.history['val_loss'])\n",
    "plt.title('Model Loss')\n",
    "plt.ylabel('Loss')\n",
    "plt.xlabel('Epoch')\n",
    "plt.legend(['Train', 'Validation'], loc='upper right')\n",
    "plt.show()\n",
    "cnn_model.evaluate(x_test,y_test)\n",
    "def image_sample(x, y, index):\n",
    " plt.figure(figsize = (10,2))\n",
    " plt.imshow(x[index])"
   ]
  },
  {
   "cell_type": "code",
   "execution_count": 30,
   "id": "a76d5b1a",
   "metadata": {},
   "outputs": [
    {
     "name": "stdout",
     "output_type": "stream",
     "text": [
      "5/5 [==============================] - 0s 44ms/step\n"
     ]
    },
    {
     "data": {
      "text/plain": [
       "array([4, 3, 2, 4, 4])"
      ]
     },
     "execution_count": 30,
     "metadata": {},
     "output_type": "execute_result"
    },
    {
     "data": {
      "image/png": "[encoded data removed]",
      "text/plain": [
       "<Figure size 1000x200 with 1 Axes>"
      ]
     },
     "metadata": {},
     "output_type": "display_data"
    },
    {
     "data": {
      "image/png": "[encoded data removed]",
      "text/plain": [
       "<Figure size 1000x200 with 1 Axes>"
      ]
     },
     "metadata": {},
     "output_type": "display_data"
    },
    {
     "data": {
      "image/png": "[encoded data removed]",
      "text/plain": [
       "<Figure size 1000x200 with 1 Axes>"
      ]
     },
     "metadata": {},
     "output_type": "display_data"
    }
   ],
   "source": [
    "\n",
    "image_sample(x_test,y_test,1)\n",
    "image_sample(x_test,y_test,50)\n",
    "image_sample(x_test,y_test,25)\n",
    "y_pred = cnn_model.predict(x_test)\n",
    "y_pred[:5]\n",
    "y_classes = [np.argmax(element) for element in y_pred]\n",
    "y_classes[:5]\n",
    "\n",
    "y_test[:5]"
   ]
  },
  {
   "cell_type": "code",
   "execution_count": 31,
   "id": "37924b8d",
   "metadata": {},
   "outputs": [
    {
     "data": {
      "text/plain": [
       "'vbar_categorical'"
      ]
     },
     "execution_count": 31,
     "metadata": {},
     "output_type": "execute_result"
    },
    {
     "data": {
      "image/png": "[encoded data removed]",
      "text/plain": [
       "<Figure size 1000x200 with 1 Axes>"
      ]
     },
     "metadata": {},
     "output_type": "display_data"
    }
   ],
   "source": [
    "image_sample(x_test,y_test,15) #actual\n",
    "image_classes[y_classes[15]]"
   ]
  },
  {
   "cell_type": "code",
   "execution_count": 32,
   "id": "d2747a9e",
   "metadata": {},
   "outputs": [
    {
     "name": "stdout",
     "output_type": "stream",
     "text": [
      "classification report: \n",
      "               precision    recall  f1-score   support\n",
      "\n",
      "           0       0.57      0.68      0.62        40\n",
      "           1       0.73      0.85      0.79        26\n",
      "           2       0.45      0.32      0.38        31\n",
      "           3       0.61      0.57      0.59        35\n",
      "           4       0.68      0.68      0.68        28\n",
      "\n",
      "    accuracy                           0.61       160\n",
      "   macro avg       0.61      0.62      0.61       160\n",
      "weighted avg       0.60      0.61      0.60       160\n",
      "\n"
     ]
    }
   ],
   "source": [
    "print(\"classification report: \\n\", classification_report(y_test,y_classes))"
   ]
  },
  {
   "cell_type": "code",
   "execution_count": 33,
   "id": "a21b2782",
   "metadata": {},
   "outputs": [
    {
     "name": "stdout",
     "output_type": "stream",
     "text": [
      "Confusion Matrix:\n",
      "[[27  4  1  2  6]\n",
      " [ 2 22  0  2  0]\n",
      " [12  1 10  8  0]\n",
      " [ 1  0 11 20  3]\n",
      " [ 5  3  0  1 19]]\n"
     ]
    },
    {
     "data": {
      "image/png": "[encoded data removed]",
      "text/plain": [
       "<Figure size 1000x1000 with 2 Axes>"
      ]
     },
     "metadata": {},
     "output_type": "display_data"
    }
   ],
   "source": [
    "conf_mat = confusion_matrix(y_test, y_classes)\n",
    "print('Confusion Matrix:')\n",
    "print(conf_mat)\n",
    " #Plot the confusion matrix\n",
    "import seaborn as sn\n",
    "plt.figure(figsize = (10,10))\n",
    "sn.heatmap(conf_mat,annot=True,fmt='d')\n",
    "plt.xlabel('Predicted')\n",
    "plt.ylabel('Actual')\n",
    "from tensorflow.keras.applications import VGG16\n",
    "from tensorflow.keras.preprocessing.image import ImageDataGenerator"
   ]
  },
  {
   "cell_type": "code",
   "execution_count": 35,
   "id": "0f815c0d",
   "metadata": {},
   "outputs": [],
   "source": [
    "vgg_model = VGG16(weights='imagenet', include_top=False, input_shape=(224, 224, 3))\n"
   ]
  },
  {
   "cell_type": "code",
   "execution_count": 36,
   "id": "9e3fcbef",
   "metadata": {},
   "outputs": [],
   "source": [
    "x = vgg_model.output\n",
    "x = GlobalAveragePooling2D()(x)\n",
    "x = Dense(128, activation='relu')(x)\n",
    "predictions = Dense(5, activation='softmax')(x)\n",
    "pt_model = tf.keras.Model(inputs=vgg_model.input, outputs=predictions)\n",
    "for layer in pt_model.layers:\n",
    " layer.trainable = False"
   ]
  },
  {
   "cell_type": "code",
   "execution_count": 37,
   "id": "89c5b78b",
   "metadata": {},
   "outputs": [
    {
     "name": "stdout",
     "output_type": "stream",
     "text": [
      "Model: \"model\"\n",
      "_________________________________________________________________\n",
      " Layer (type)                Output Shape              Param #   \n",
      "=================================================================\n",
      " input_2 (InputLayer)        [(None, 224, 224, 3)]     0         \n",
      "                                                                 \n",
      " block1_conv1 (Conv2D)       (None, 224, 224, 64)      1792      \n",
      "                                                                 \n",
      " block1_conv2 (Conv2D)       (None, 224, 224, 64)      36928     \n",
      "                                                                 \n",
      " block1_pool (MaxPooling2D)  (None, 112, 112, 64)      0         \n",
      "                                                                 \n",
      " block2_conv1 (Conv2D)       (None, 112, 112, 128)     73856     \n",
      "                                                                 \n",
      " block2_conv2 (Conv2D)       (None, 112, 112, 128)     147584    \n",
      "                                                                 \n",
      " block2_pool (MaxPooling2D)  (None, 56, 56, 128)       0         \n",
      "                                                                 \n",
      " block3_conv1 (Conv2D)       (None, 56, 56, 256)       295168    \n",
      "                                                                 \n",
      " block3_conv2 (Conv2D)       (None, 56, 56, 256)       590080    \n",
      "                                                                 \n",
      " block3_conv3 (Conv2D)       (None, 56, 56, 256)       590080    \n",
      "                                                                 \n",
      " block3_pool (MaxPooling2D)  (None, 28, 28, 256)       0         \n",
      "                                                                 \n",
      " block4_conv1 (Conv2D)       (None, 28, 28, 512)       1180160   \n",
      "                                                                 \n",
      " block4_conv2 (Conv2D)       (None, 28, 28, 512)       2359808   \n",
      "                                                                 \n",
      " block4_conv3 (Conv2D)       (None, 28, 28, 512)       2359808   \n",
      "                                                                 \n",
      " block4_pool (MaxPooling2D)  (None, 14, 14, 512)       0         \n",
      "                                                                 \n",
      " block5_conv1 (Conv2D)       (None, 14, 14, 512)       2359808   \n",
      "                                                                 \n",
      " block5_conv2 (Conv2D)       (None, 14, 14, 512)       2359808   \n",
      "                                                                 \n",
      " block5_conv3 (Conv2D)       (None, 14, 14, 512)       2359808   \n",
      "                                                                 \n",
      " block5_pool (MaxPooling2D)  (None, 7, 7, 512)         0         \n",
      "                                                                 \n",
      " global_average_pooling2d (G  (None, 512)              0         \n",
      " lobalAveragePooling2D)                                          \n",
      "                                                                 \n",
      " dense_4 (Dense)             (None, 128)               65664     \n",
      "                                                                 \n",
      " dense_5 (Dense)             (None, 5)                 645       \n",
      "                                                                 \n",
      "=================================================================\n",
      "Total params: 14,780,997\n",
      "Trainable params: 0\n",
      "Non-trainable params: 14,780,997\n",
      "_________________________________________________________________\n"
     ]
    }
   ],
   "source": [
    "pt_model.summary()\n",
    "train_datagen = ImageDataGenerator(\n",
    " rescale=1./255,\n",
    " rotation_range=20,\n",
    " width_shift_range=0.2,\n",
    " height_shift_range=0.2,\n",
    " shear_range=0.2,\n",
    " zoom_range=0.2,\n",
    " horizontal_flip=True,\n",
    " fill_mode='nearest')\n",
    "test_datagen = ImageDataGenerator(rescale=1./255)"
   ]
  },
  {
   "cell_type": "code",
   "execution_count": 38,
   "id": "b9f985b3",
   "metadata": {},
   "outputs": [
    {
     "data": {
      "image/png": "[encoded data removed]",
      "text/plain": [
       "<Figure size 640x480 with 1 Axes>"
      ]
     },
     "metadata": {},
     "output_type": "display_data"
    }
   ],
   "source": [
    "train_gen = train_datagen.flow(x_train, y_train, batch_size=32)\n",
    "test_gen = train_datagen.flow(x_test, y_test, batch_size=32)\n",
    "plt.plot(history.history['loss'])\n",
    "plt.plot(history.history['val_loss'])\n",
    "plt.title('Model Loss')\n",
    "plt.ylabel('Loss')\n",
    "plt.xlabel('Epoch')\n",
    "plt.legend(['Train', 'Validation'], loc='upper right')\n",
    "plt.show()"
   ]
  },
  {
   "cell_type": "code",
   "execution_count": null,
   "id": "90143d15",
   "metadata": {},
   "outputs": [],
   "source": []
  }
 ],
 "metadata": {
  "kernelspec": {
   "display_name": "Python 3 (ipykernel)",
   "language": "python",
   "name": "python3"
  },
  "language_info": {
   "codemirror_mode": {
    "name": "ipython",
    "version": 3
   },
   "file_extension": ".py",
   "mimetype": "text/x-python",
   "name": "python",
   "nbconvert_exporter": "python",
   "pygments_lexer": "ipython3",
   "version": "3.9.13"
  }
 },
 "nbformat": 4,
 "nbformat_minor": 5
}
